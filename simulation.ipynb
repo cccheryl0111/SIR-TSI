{
 "cells": [
  {
   "cell_type": "code",
   "execution_count": 1,
   "metadata": {},
   "outputs": [],
   "source": [
    "# Randomly pick the values of S, X, R in different time\n",
    "\n",
    "import numpy as np\n",
    "n = 6000\n",
    "S = np.random.randint(0.5*n, n, size=60)\n",
    "S_array = np.sort(S)[::-1]\n",
    "remaining = n*np.ones(60) - S_array\n",
    "R_array = np.zeros(60)\n",
    "\n",
    "for r in range(60):\n",
    "    R_array[r] = np.random.randint(R_array[r-1], n-S_array[r])\n",
    "\n",
    "X_array = remaining - R_array"
   ]
  },
  {
   "cell_type": "code",
   "execution_count": 2,
   "metadata": {},
   "outputs": [],
   "source": [
    "# Calculate the values of beta and gamma\n",
    "\n",
    "beta_array = -n * np.diff(S_array) / (S_array[:-1] * X_array[:-1])\n",
    "gamma_array = np.diff(R_array) / X_array[:-1]"
   ]
  },
  {
   "cell_type": "code",
   "execution_count": 3,
   "metadata": {},
   "outputs": [],
   "source": [
    "# Calculate the values of coefficients\n",
    "\n",
    "beta_results = beta_array[29:]\n",
    "beta_vals = np.array([np.append(beta_array[r:r+29][::-1],1) for r in range(30)])\n",
    "a_seq = np.linalg.inv(beta_vals) @ beta_results\n",
    "\n",
    "gamma_results = gamma_array[29:]\n",
    "gamma_vals = np.array([np.append(gamma_array[r:r+29][::-1],1) for r in range(30)])\n",
    "b_seq = np.linalg.inv(gamma_vals) @ gamma_results"
   ]
  },
  {
   "cell_type": "code",
   "execution_count": 7,
   "metadata": {},
   "outputs": [],
   "source": [
    "# Check prediction\n",
    "\n",
    "beta_pred = np.dot(a_seq, np.append(beta_array[30:][::-1],1))\n",
    "S_pred = - beta_pred * S_array[-1] * X_array[-1] / n + S_array[-1]\n",
    "\n",
    "gamma_pred = np.dot(b_seq, np.append(gamma_array[30:][::-1],1))\n",
    "R_pred = gamma_pred * X_array[-1] + R_array[-1]\n",
    "\n",
    "# Calculate and predict the values of R(t)\n",
    "\n",
    "reproduce_SIR = beta_array / gamma_array"
   ]
  },
  {
   "cell_type": "code",
   "execution_count": 10,
   "metadata": {},
   "outputs": [
    {
     "data": {
      "text/plain": [
       "np.float64(5051.890772010129)"
      ]
     },
     "execution_count": 10,
     "metadata": {},
     "output_type": "execute_result"
    }
   ],
   "source": []
  },
  {
   "cell_type": "code",
   "execution_count": 9,
   "metadata": {},
   "outputs": [
    {
     "data": {
      "text/plain": [
       "array([2.000e+00, 6.900e+01, 1.610e+02, 1.790e+02, 1.900e+02, 2.030e+02,\n",
       "       2.090e+02, 3.100e+02, 3.780e+02, 3.990e+02, 4.150e+02, 4.570e+02,\n",
       "       5.020e+02, 5.280e+02, 5.330e+02, 5.570e+02, 6.260e+02, 8.910e+02,\n",
       "       9.090e+02, 9.990e+02, 1.023e+03, 1.043e+03, 1.129e+03, 1.184e+03,\n",
       "       1.196e+03, 1.345e+03, 1.458e+03, 1.491e+03, 1.606e+03, 1.620e+03,\n",
       "       1.723e+03, 1.756e+03, 1.767e+03, 1.817e+03, 1.818e+03, 1.892e+03,\n",
       "       1.909e+03, 1.925e+03, 1.930e+03, 1.944e+03, 1.961e+03, 2.011e+03,\n",
       "       2.074e+03, 2.107e+03, 2.118e+03, 2.169e+03, 2.198e+03, 2.203e+03,\n",
       "       2.213e+03, 2.244e+03, 2.272e+03, 2.272e+03, 2.431e+03, 2.499e+03,\n",
       "       2.628e+03, 2.631e+03, 2.645e+03, 2.741e+03, 2.837e+03, 2.908e+03])"
      ]
     },
     "execution_count": 9,
     "metadata": {},
     "output_type": "execute_result"
    }
   ],
   "source": [
    "R_array"
   ]
  },
  {
   "cell_type": "code",
   "execution_count": null,
   "metadata": {},
   "outputs": [],
   "source": []
  }
 ],
 "metadata": {
  "kernelspec": {
   "display_name": "PoP_venv",
   "language": "python",
   "name": "python3"
  },
  "language_info": {
   "codemirror_mode": {
    "name": "ipython",
    "version": 3
   },
   "file_extension": ".py",
   "mimetype": "text/x-python",
   "name": "python",
   "nbconvert_exporter": "python",
   "pygments_lexer": "ipython3",
   "version": "3.11.5"
  }
 },
 "nbformat": 4,
 "nbformat_minor": 2
}
