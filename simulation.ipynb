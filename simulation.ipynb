{
 "cells": [
  {
   "cell_type": "code",
   "execution_count": 1,
   "metadata": {},
   "outputs": [],
   "source": [
    "# Randomly pick the values of S, X, R in different time\n",
    "\n",
    "import numpy as np\n",
    "n = 6000\n",
    "S = np.random.randint(0.5*n, 0.8*n, size=30)\n",
    "S_array = np.sort(S)[::-1]\n",
    "remaining = n*np.ones(30) - S_array\n",
    "R_array = np.zeros(30)\n",
    "\n",
    "for r in range(30):\n",
    "    R_array[r] = np.random.randint(R_array[r-1]+1, n-S_array[r])\n",
    "\n",
    "X_array = remaining - R_array"
   ]
  },
  {
   "cell_type": "code",
   "execution_count": 2,
   "metadata": {},
   "outputs": [],
   "source": [
    "# Calculate the values of beta and gamma\n",
    "\n",
    "beta_array = -n * np.diff(S_array) / (S_array[:-1] * X_array[:-1])\n",
    "gamma_array = np.diff(R_array) / X_array[:-1]"
   ]
  },
  {
   "cell_type": "code",
   "execution_count": 7,
   "metadata": {},
   "outputs": [],
   "source": [
    "# Calculate the values of coefficients\n",
    "\n",
    "beta_results = beta_array[14:]\n",
    "beta_vals = np.array([np.append(beta_array[r:r+14][::-1],1) for r in range(15)])\n",
    "a_seq = np.linalg.inv(beta_vals) @ beta_results\n",
    "\n",
    "gamma_results = gamma_array[14:]\n",
    "gamma_vals = np.array([np.append(gamma_array[r:r+14][::-1],1) for r in range(15)])\n",
    "b_seq = np.linalg.inv(gamma_vals) @ gamma_results"
   ]
  },
  {
   "cell_type": "code",
   "execution_count": 10,
   "metadata": {},
   "outputs": [
    {
     "name": "stdout",
     "output_type": "stream",
     "text": [
      "4963.857456206499\n",
      "3002.463261905444\n",
      "-1966.3207181119428\n",
      "246394.5344676056\n",
      "18199.027008863606\n",
      "-258593.5614764692\n",
      "2129736776.146463\n",
      "-11606829.06667155\n",
      "-2118123947.0797913\n",
      "-5.927439779406244e+17\n",
      "458672099150.342\n",
      "5.927435192685312e+17\n",
      "2.432305969026292e+34\n",
      "6.444542741765001e+20\n",
      "-2.4323059690263567e+34\n"
     ]
    }
   ],
   "source": [
    "# Calculate and predict 50 R(t) with SIR model\n",
    "\n",
    "reproduce_0 = beta_array / gamma_array\n",
    "S_pred = S_array[-1]\n",
    "X_pred = X_array[-1]\n",
    "R_pred = R_array[-1]\n",
    "\n",
    "reproduce_1 = np.zeros(5)\n",
    "for r in range(5):\n",
    "    beta_pred = np.dot(a_seq, np.append(beta_array[15+r:][::-1],1))\n",
    "    beta_array = np.append(beta_array, beta_pred)\n",
    "    S_pred = - beta_pred * S_pred * X_pred / n + S_pred\n",
    "\n",
    "    gamma_pred = np.dot(b_seq, np.append(gamma_array[15+r:][::-1],1))\n",
    "    gamma_array = np.append(gamma_array, gamma_pred)\n",
    "    R_pred = gamma_pred * X_pred + R_pred\n",
    "\n",
    "    X_pred = n - S_pred - R_pred\n",
    "\n",
    "    reproduce_1[r] = beta_pred / gamma_pred"
   ]
  },
  {
   "cell_type": "code",
   "execution_count": 11,
   "metadata": {},
   "outputs": [],
   "source": [
    "# Calculate the values of I(t)\n",
    "I_array = -np.diff(S_array)\n",
    "\n",
    "# solve the values of w(s)\n",
    "w_array = np.zeros(28)\n",
    "for r in range(1,29):\n",
    "    w_array[r-1] =(I_array[r] / reproduce_0[r] - np.dot(I_array[r-1:0:-1], w_array[:r-1])) / I_array[0]\n",
    "\n",
    "# predict 50 R(t) by w(s) and TSI model\n"
   ]
  },
  {
   "cell_type": "code",
   "execution_count": null,
   "metadata": {},
   "outputs": [],
   "source": []
  }
 ],
 "metadata": {
  "kernelspec": {
   "display_name": "PoP_venv",
   "language": "python",
   "name": "python3"
  },
  "language_info": {
   "codemirror_mode": {
    "name": "ipython",
    "version": 3
   },
   "file_extension": ".py",
   "mimetype": "text/x-python",
   "name": "python",
   "nbconvert_exporter": "python",
   "pygments_lexer": "ipython3",
   "version": "3.11.5"
  }
 },
 "nbformat": 4,
 "nbformat_minor": 2
}
